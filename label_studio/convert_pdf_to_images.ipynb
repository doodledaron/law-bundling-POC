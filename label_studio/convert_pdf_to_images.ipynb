{
 "cells": [
  {
   "cell_type": "markdown",
   "metadata": {},
   "source": [
    "# PDF to Image Converter\n",
    "\n",
    "This notebook provides functionality to convert PDF files to high-resolution PNG images.\n"
   ]
  },
  {
   "cell_type": "markdown",
   "metadata": {},
   "source": [
    "## Single PDF Conversion\n",
    "\n",
    "The first cell demonstrates converting a single PDF file with a hardcoded path. It:\n",
    "- Uses PyMuPDF (fitz) to open and process the PDF\n",
    "- Converts each page to a 300 DPI PNG image\n",
    "- Sanitizes filenames to remove special characters\n"
   ]
  },
  {
   "cell_type": "code",
   "execution_count": 2,
   "metadata": {},
   "outputs": [
    {
     "name": "stdout",
     "output_type": "stream",
     "text": [
      "Converting: CreditcardscomInc_20070810_S-1_EX-10.33_362297_EX-10.33_Affiliate Agreement\n",
      "Converting: CreditcardscomInc_20070810_S-1_EX-10.33_362297_EX-10.33_Affiliate Agreement\n",
      "Converting: CreditcardscomInc_20070810_S-1_EX-10.33_362297_EX-10.33_Affiliate Agreement\n",
      "Converting: CreditcardscomInc_20070810_S-1_EX-10.33_362297_EX-10.33_Affiliate Agreement\n",
      "Converting: CreditcardscomInc_20070810_S-1_EX-10.33_362297_EX-10.33_Affiliate Agreement\n",
      "Converting: CreditcardscomInc_20070810_S-1_EX-10.33_362297_EX-10.33_Affiliate Agreement\n",
      "Converting: CreditcardscomInc_20070810_S-1_EX-10.33_362297_EX-10.33_Affiliate Agreement\n",
      "Converting: CreditcardscomInc_20070810_S-1_EX-10.33_362297_EX-10.33_Affiliate Agreement\n",
      "Converting: CreditcardscomInc_20070810_S-1_EX-10.33_362297_EX-10.33_Affiliate Agreement\n",
      "Converting: CreditcardscomInc_20070810_S-1_EX-10.33_362297_EX-10.33_Affiliate Agreement\n",
      "Converting: CreditcardscomInc_20070810_S-1_EX-10.33_362297_EX-10.33_Affiliate Agreement\n",
      "Converting: CreditcardscomInc_20070810_S-1_EX-10.33_362297_EX-10.33_Affiliate Agreement\n"
     ]
    }
   ],
   "source": [
    "import fitz\n",
    "import os\n",
    "import re\n",
    "\n",
    "def sanitize_filename(name):\n",
    "    # Replace any character that is not alphanumeric or underscore with an underscore\n",
    "    return re.sub(r'[^A-Za-z0-9_]', '_', name)\n",
    "\n",
    "dpi = 300\n",
    "zoom = dpi/72\n",
    "magnify = fitz.Matrix(zoom, zoom)\n",
    "pdf_name = \"CreditcardscomInc_20070810_S-1_EX-10.33_362297_EX-10.33_Affiliate Agreement\"\n",
    "pdf_category = \"Affiliate_Agreements\"\n",
    "safe_pdf_name = sanitize_filename(pdf_name)\n",
    "path = f\"../CUAD_v1/full_contract_pdf/Part_I/{pdf_category}/{pdf_name}.pdf\"\n",
    "count = 0\n",
    "\n",
    "doc = fitz.open(path)\n",
    "\n",
    "for page in doc:\n",
    "    count+=1\n",
    "    pix = page.get_pixmap(matrix=magnify)\n",
    "    pix.save(f\"./image/{safe_pdf_name}_page_{count}.png\")\n",
    "    print(f\"Converting: {pdf_name}\")\n"
   ]
  },
  {
   "cell_type": "markdown",
   "metadata": {},
   "source": [
    "## Bulk PDF Conversion\n",
    "\n",
    "The second cell defines two functions:\n",
    "\n",
    "1. `convert_pdf_to_images(pdf_path, output_dir=\"./image\", dpi=300)`:\n",
    "   - Converts a single PDF to images\n",
    "   - Creates output directory if it doesn't exist\n",
    "   - Handles errors gracefully\n",
    "   - Returns success/failure status\n",
    "\n",
    "2. `bulk_convert_pdfs(input_dir, output_dir=\"./image\", dpi=300)`:\n",
    "   - Recursively finds all PDFs in the input directory\n",
    "   - Preserves directory structure in the output\n",
    "   - Calls the single conversion function for each PDF\n",
    "   - Tracks and reports conversion success/failure counts\n"
   ]
  },
  {
   "cell_type": "code",
   "execution_count": 4,
   "metadata": {},
   "outputs": [],
   "source": [
    "def convert_pdf_to_images(pdf_path, output_dir=\"./image\", dpi=300):\n",
    "    \"\"\"\n",
    "    Convert a single PDF to images\n",
    "    \n",
    "    Args:\n",
    "        pdf_path: Path to the PDF file\n",
    "        output_dir: Directory to save images\n",
    "        dpi: DPI for the output images\n",
    "    \"\"\"\n",
    "    if not os.path.exists(output_dir):\n",
    "        os.makedirs(output_dir)\n",
    "        \n",
    "    zoom = dpi/72\n",
    "    magnify = fitz.Matrix(zoom, zoom)\n",
    "    \n",
    "    pdf_name = os.path.basename(pdf_path)\n",
    "    pdf_name = os.path.splitext(pdf_name)[0]  # Remove extension\n",
    "    safe_pdf_name = sanitize_filename(pdf_name)\n",
    "    \n",
    "    try:\n",
    "        doc = fitz.open(pdf_path)\n",
    "        print(f\"Converting: {pdf_name}\")\n",
    "        \n",
    "        for page_num, page in enumerate(doc, 1):\n",
    "            pix = page.get_pixmap(matrix=magnify)\n",
    "            output_path = os.path.join(output_dir, f\"{safe_pdf_name}_page_{page_num}.png\")\n",
    "            pix.save(output_path)\n",
    "        \n",
    "        return True\n",
    "    except Exception as e:\n",
    "        print(f\"Error processing {pdf_path}: {e}\")\n",
    "        return False\n",
    "\n",
    "def bulk_convert_pdfs(input_dir, output_dir=\"./image\", dpi=300):\n",
    "    \"\"\"\n",
    "    Convert all PDFs in a directory to images\n",
    "    \n",
    "    Args:\n",
    "        input_dir: Directory containing PDF files\n",
    "        output_dir: Directory to save images\n",
    "        dpi: DPI for the output images\n",
    "    \"\"\"\n",
    "    if not os.path.exists(output_dir):\n",
    "        os.makedirs(output_dir)\n",
    "    \n",
    "    success_count = 0\n",
    "    failure_count = 0\n",
    "    \n",
    "    # Walk through all files in input_dir and its subdirectories\n",
    "    for root, _, files in os.walk(input_dir):\n",
    "        for file in files:\n",
    "            if file.lower().endswith('.pdf'):\n",
    "                pdf_path = os.path.join(root, file)\n",
    "                \n",
    "                # Create subdirectory structure mirroring the input directory\n",
    "                rel_path = os.path.relpath(root, input_dir)\n",
    "                if rel_path != '.':\n",
    "                    target_dir = os.path.join(output_dir, rel_path)\n",
    "                    if not os.path.exists(target_dir):\n",
    "                        os.makedirs(target_dir)\n",
    "                else:\n",
    "                    target_dir = output_dir\n",
    "                \n",
    "                # Convert the PDF\n",
    "                result = convert_pdf_to_images(pdf_path, target_dir, dpi)\n",
    "                \n",
    "                if result:\n",
    "                    success_count += 1\n",
    "                else:\n",
    "                    failure_count += 1\n",
    "    \n",
    "    print(f\"\\nConversion complete!\")\n",
    "    print(f\"Successfully converted: {success_count} PDFs\")\n",
    "    print(f\"Failed conversions: {failure_count} PDFs\")\n",
    "    \n",
    "# Example usage\n",
    "# bulk_convert_pdfs(\"../CUAD_v1/full_contract_pdf/\")"
   ]
  },
  {
   "cell_type": "markdown",
   "metadata": {},
   "source": [
    "## Usage Example\n",
    "\n",
    "The third cell shows how to use the bulk conversion function:\n",
    "- Specify input directory containing PDFs\n",
    "- Specify output directory for the images\n",
    "- Set the desired DPI (default is 300)"
   ]
  },
  {
   "cell_type": "code",
   "execution_count": 5,
   "metadata": {},
   "outputs": [
    {
     "name": "stdout",
     "output_type": "stream",
     "text": [
      "Converting: CreditcardscomInc_20070810_S-1_EX-10.33_362297_EX-10.33_Affiliate Agreement\n",
      "Converting: CybergyHoldingsInc_20140520_10-Q_EX-10.27_8605784_EX-10.27_Affiliate Agreement\n",
      "Converting: DigitalCinemaDestinationsCorp_20111220_S-1_EX-10.10_7346719_EX-10.10_Affiliate Agreement\n",
      "Converting: LinkPlusCorp_20050802_8-K_EX-10_3240252_EX-10_Affiliate Agreement\n",
      "Converting: SouthernStarEnergyInc_20051202_SB-2A_EX-9_801890_EX-9_Affiliate Agreement\n",
      "Converting: SteelVaultCorp_20081224_10-K_EX-10.16_3074935_EX-10.16_Affiliate Agreement\n",
      "Converting: TubeMediaCorp_20060310_8-K_EX-10.1_513921_EX-10.1_Affiliate Agreement\n",
      "Converting: UnionDentalHoldingsInc_20050204_8-KA_EX-10_3345577_EX-10_Affiliate Agreement\n",
      "Converting: UsioInc_20040428_SB-2_EX-10.11_1723988_EX-10.11_Affiliate Agreement 2\n",
      "\n",
      "Conversion complete!\n",
      "Successfully converted: 9 PDFs\n",
      "Failed conversions: 0 PDFs\n"
     ]
    }
   ],
   "source": [
    "# Run this cell to convert all PDFs in a specific directory\n",
    "input_directory = \"../CUAD_v1/full_contract_pdf/Part_I/Affiliate_Agreements\"\n",
    "output_directory = \"./image/bulk_output\"\n",
    "\n",
    "bulk_convert_pdfs(input_directory, output_directory, dpi=300)"
   ]
  }
 ],
 "metadata": {
  "kernelspec": {
   "display_name": "venv",
   "language": "python",
   "name": "python3"
  },
  "language_info": {
   "codemirror_mode": {
    "name": "ipython",
    "version": 3
   },
   "file_extension": ".py",
   "mimetype": "text/x-python",
   "name": "python",
   "nbconvert_exporter": "python",
   "pygments_lexer": "ipython3",
   "version": "3.12.3"
  }
 },
 "nbformat": 4,
 "nbformat_minor": 2
}
