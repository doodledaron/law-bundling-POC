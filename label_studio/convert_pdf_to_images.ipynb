{
 "cells": [
  {
   "cell_type": "code",
   "execution_count": 4,
   "metadata": {},
   "outputs": [],
   "source": [
    "import fitz\n",
    "import os\n",
    "import re\n",
    "\n",
    "def sanitize_filename(name):\n",
    "    # Replace any character that is not alphanumeric or underscore with an underscore\n",
    "    return re.sub(r'[^A-Za-z0-9_]', '_', name)\n",
    "\n",
    "dpi = 300\n",
    "zoom = dpi/72\n",
    "magnify = fitz.Matrix(zoom, zoom)\n",
    "pdf_name = \"CreditcardscomInc_20070810_S-1_EX-10.33_362297_EX-10.33_Affiliate Agreement\"\n",
    "pdf_category = \"Affiliate_Agreements\"\n",
    "safe_pdf_name = sanitize_filename(pdf_name)\n",
    "path = f\"../CUAD_v1/full_contract_pdf/Part_I/{pdf_category}/{pdf_name}.pdf\"\n",
    "count = 0\n",
    "\n",
    "doc = fitz.open(path)\n",
    "\n",
    "for page in doc:\n",
    "    count+=1\n",
    "    pix = page.get_pixmap(matrix=magnify)\n",
    "    pix.save(f\"./image/{safe_pdf_name}_page_{count}.png\")"
   ]
  }
 ],
 "metadata": {
  "kernelspec": {
   "display_name": "venv",
   "language": "python",
   "name": "python3"
  },
  "language_info": {
   "codemirror_mode": {
    "name": "ipython",
    "version": 3
   },
   "file_extension": ".py",
   "mimetype": "text/x-python",
   "name": "python",
   "nbconvert_exporter": "python",
   "pygments_lexer": "ipython3",
   "version": "3.12.3"
  }
 },
 "nbformat": 4,
 "nbformat_minor": 2
}
