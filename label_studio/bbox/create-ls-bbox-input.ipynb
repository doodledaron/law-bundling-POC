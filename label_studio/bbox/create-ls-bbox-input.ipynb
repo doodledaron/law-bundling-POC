{
 "cells": [
  {
   "cell_type": "markdown",
   "metadata": {},
   "source": [
    "# Create Label Studio Import File - Images Only\n",
    "\n",
    "This notebook creates a JSON file for Label Studio import with just image references. \n",
    "Unlike the original script with PaddleOCR, this doesn't perform OCR - it only prepares the images \n",
    "for manual bounding box labeling within Label Studio."
   ]
  },
  {
   "cell_type": "code",
   "execution_count": 7,
   "metadata": {},
   "outputs": [],
   "source": [
    "import os\n",
    "import json\n",
    "from PIL import Image\n",
    "import numpy as np"
   ]
  },
  {
   "cell_type": "code",
   "execution_count": 8,
   "metadata": {},
   "outputs": [],
   "source": [
    "# Configure the path to your image folder\n",
    "images_folder_path = \"../image\""
   ]
  },
  {
   "cell_type": "code",
   "execution_count": 9,
   "metadata": {},
   "outputs": [],
   "source": [
    "def create_image_url(filename):\n",
    "    \"\"\"\n",
    "    Label Studio requires image URLs, so this defines the mapping from filesystem to URLs\n",
    "    if you use ./serve_local_files.sh <my-images-dir>, the image URLs are localhost:8082/filename.png\n",
    "    Otherwise you can build links like /data/upload/filename.png to refer to the files\n",
    "    \"\"\"\n",
    "    return f'http://localhost:8082/{filename}'"
   ]
  },
  {
   "cell_type": "code",
   "execution_count": 10,
   "metadata": {},
   "outputs": [],
   "source": [
    "def create_label_studio_json_for_images(images_folder_path, output_file=\"label-studio-bbox-import.json\"):\n",
    "    \"\"\"\n",
    "    Creates a Label Studio import file with just image references (no OCR data).\n",
    "    Each image becomes a task in Label Studio.\n",
    "    \n",
    "    Args:\n",
    "        images_folder_path: Path to the folder containing images\n",
    "        output_file: Name of the output JSON file\n",
    "    \"\"\"\n",
    "    label_studio_task_list = []\n",
    "    processed_count = 0\n",
    "    \n",
    "    # Process all image files in the directory\n",
    "    for image_file in os.listdir(images_folder_path):\n",
    "        if image_file.lower().endswith(('.png', '.jpg', '.jpeg')):\n",
    "            print(f\"Processing: {image_file}\")\n",
    "            \n",
    "            # Create task object with image URL\n",
    "            task = {\n",
    "                'data': {\n",
    "                    'image': create_image_url(image_file)\n",
    "                }\n",
    "            }\n",
    "            \n",
    "            # Optional: Add image dimensions as metadata\n",
    "            try:\n",
    "                img_path = os.path.join(images_folder_path, image_file)\n",
    "                with Image.open(img_path) as img:\n",
    "                    width, height = img.size\n",
    "                    task['data']['width'] = width\n",
    "                    task['data']['height'] = height\n",
    "            except Exception as e:\n",
    "                print(f\"Warning: Could not read image dimensions for {image_file}: {e}\")\n",
    "            \n",
    "            # Add to task list\n",
    "            label_studio_task_list.append(task)\n",
    "            processed_count += 1\n",
    "    \n",
    "    # Save the task list as a JSON file\n",
    "    with open(output_file, 'w') as f:\n",
    "        json.dump(label_studio_task_list, f, indent=4)\n",
    "    \n",
    "    print(f\"\\nProcessing complete! Created {output_file} with {processed_count} images.\")\n",
    "    print(f\"Import this file into Label Studio to start manual bounding box labeling.\")\n",
    "    \n",
    "    return label_studio_task_list"
   ]
  },
  {
   "cell_type": "code",
   "execution_count": 11,
   "metadata": {},
   "outputs": [
    {
     "name": "stdout",
     "output_type": "stream",
     "text": [
      "Processing: CreditcardscomInc_20070810_S_1_EX_10_33_362297_EX_10_33_Affiliate_Agreement_page_1.png\n",
      "Processing: CreditcardscomInc_20070810_S_1_EX_10_33_362297_EX_10_33_Affiliate_Agreement_page_10.png\n",
      "Processing: CreditcardscomInc_20070810_S_1_EX_10_33_362297_EX_10_33_Affiliate_Agreement_page_11.png\n",
      "Processing: CreditcardscomInc_20070810_S_1_EX_10_33_362297_EX_10_33_Affiliate_Agreement_page_12.png\n",
      "Processing: CreditcardscomInc_20070810_S_1_EX_10_33_362297_EX_10_33_Affiliate_Agreement_page_2.png\n",
      "Processing: CreditcardscomInc_20070810_S_1_EX_10_33_362297_EX_10_33_Affiliate_Agreement_page_3.png\n",
      "Processing: CreditcardscomInc_20070810_S_1_EX_10_33_362297_EX_10_33_Affiliate_Agreement_page_4.png\n",
      "Processing: CreditcardscomInc_20070810_S_1_EX_10_33_362297_EX_10_33_Affiliate_Agreement_page_5.png\n",
      "Processing: CreditcardscomInc_20070810_S_1_EX_10_33_362297_EX_10_33_Affiliate_Agreement_page_6.png\n",
      "Processing: CreditcardscomInc_20070810_S_1_EX_10_33_362297_EX_10_33_Affiliate_Agreement_page_7.png\n",
      "Processing: CreditcardscomInc_20070810_S_1_EX_10_33_362297_EX_10_33_Affiliate_Agreement_page_8.png\n",
      "Processing: CreditcardscomInc_20070810_S_1_EX_10_33_362297_EX_10_33_Affiliate_Agreement_page_9.png\n",
      "Processing: Sample_NDA_page_1.png\n",
      "Processing: Sample_NDA_page_2.png\n",
      "\n",
      "Processing complete! Created label-studio-bbox-import.json with 14 images.\n",
      "Import this file into Label Studio to start manual bounding box labeling.\n"
     ]
    }
   ],
   "source": [
    "# Run the function to create the Label Studio import file\n",
    "tasks = create_label_studio_json_for_images(images_folder_path)"
   ]
  },
  {
   "cell_type": "markdown",
   "metadata": {},
   "source": [
    "## Label Studio Project Configuration\n",
    "\n",
    "When creating your Label Studio project, use this configuration for bounding box labeling:\n",
    "\n",
    "```xml\n",
    "<View>\n",
    "  <Image name=\"image\" value=\"$image\" />\n",
    "  <RectangleLabels name=\"label\" toName=\"image\">\n",
    "    <Label value=\"Text\" background=\"green\"/>\n",
    "    <!-- Add more labels as needed -->\n",
    "  </RectangleLabels>\n",
    "</View>\n",
    "```\n",
    "\n",
    "After importing the generated JSON file, you'll be able to draw bounding boxes manually on each image."
   ]
  },
  {
   "cell_type": "code",
   "execution_count": 12,
   "metadata": {},
   "outputs": [],
   "source": [
    "# Function to process bulk directories of images\n",
    "def bulk_process_images(base_dir, output_file=\"label-studio-bulk-import.json\"):\n",
    "    \"\"\"\n",
    "    Process multiple directories of images and create a single import file\n",
    "    \n",
    "    Args:\n",
    "        base_dir: Base directory containing image directories\n",
    "        output_file: Output JSON file name\n",
    "    \"\"\"\n",
    "    all_tasks = []\n",
    "    \n",
    "    # Walk through all directories\n",
    "    for root, dirs, files in os.walk(base_dir):\n",
    "        image_files = [f for f in files if f.lower().endswith(('.png', '.jpg', '.jpeg'))]\n",
    "        \n",
    "        if image_files:\n",
    "            print(f\"Processing directory: {root}\")\n",
    "            \n",
    "            for image_file in image_files:\n",
    "                # Get relative path from base_dir\n",
    "                rel_path = os.path.relpath(root, base_dir)\n",
    "                if rel_path == \".\":\n",
    "                    image_url = create_image_url(image_file)\n",
    "                else:\n",
    "                    image_url = create_image_url(f\"{rel_path}/{image_file}\")\n",
    "                \n",
    "                # Create task\n",
    "                task = {\n",
    "                    'data': {\n",
    "                        'image': image_url\n",
    "                    }\n",
    "                }\n",
    "                \n",
    "                # Add category based on directory name\n",
    "                if rel_path != \".\":\n",
    "                    task['data']['category'] = os.path.basename(rel_path)\n",
    "                \n",
    "                all_tasks.append(task)\n",
    "    \n",
    "    # Save all tasks\n",
    "    with open(output_file, 'w') as f:\n",
    "        json.dump(all_tasks, f, indent=4)\n",
    "    \n",
    "    print(f\"\\nBulk processing complete! Created {output_file} with {len(all_tasks)} images.\")\n",
    "    return all_tasks"
   ]
  },
  {
   "cell_type": "code",
   "execution_count": 13,
   "metadata": {},
   "outputs": [],
   "source": [
    "# Optional: Run bulk processing (uncomment to use)\n",
    "# bulk_tasks = bulk_process_images(\"../path/to/bulk/images\")"
   ]
  }
 ],
 "metadata": {
  "kernelspec": {
   "display_name": "venv",
   "language": "python",
   "name": "python3"
  },
  "language_info": {
   "codemirror_mode": {
    "name": "ipython",
    "version": 3
   },
   "file_extension": ".py",
   "mimetype": "text/x-python",
   "name": "python",
   "nbconvert_exporter": "python",
   "pygments_lexer": "ipython3",
   "version": "3.12.3"
  }
 },
 "nbformat": 4,
 "nbformat_minor": 2
}
